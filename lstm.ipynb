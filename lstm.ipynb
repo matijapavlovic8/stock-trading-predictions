{
 "cells": [
  {
   "metadata": {},
   "cell_type": "markdown",
   "source": [
    "# LSTM for stock data\n",
    "\n",
    "Motivation for this notebook is employment of recurrent neural networks, specifically LSTM's for prediction of stock market data. As seen in the previous mandatory notebooks the given data poses as a fairly hard problem for conventional Machine Learning algorithms. As RNN-s are often models of choice for time series data it is reasonable to assume they would have more succes in handling this kind of data. Using PyTorch library a deep learning model will be created, trained on the train set and then finally evaluated on the test set to determine if employment of this approach is effective."
   ],
   "id": "cd0169c7e79f66c4"
  },
  {
   "metadata": {
    "ExecuteTime": {
     "end_time": "2024-05-22T21:48:55.981439Z",
     "start_time": "2024-05-22T21:48:55.974397Z"
    }
   },
   "cell_type": "code",
   "source": [
    "import torch\n",
    "import torch.nn as nn\n",
    "import numpy as np\n",
    "import pandas as pd\n",
    "from sklearn.preprocessing import MinMaxScaler\n",
    "from sklearn.model_selection import train_test_split\n",
    "from sklearn.metrics import accuracy_score, f1_score, confusion_matrix\n",
    "from torch import optim\n",
    "from matplotlib import pyplot as plt\n",
    "import seaborn as sns"
   ],
   "id": "4de4dccf269e636f",
   "outputs": [],
   "execution_count": 160
  },
  {
   "metadata": {},
   "cell_type": "markdown",
   "source": [
    "## Dataset\n",
    "\n",
    "LSTM will be trained on Adj Close column data. Additionally model will only be trained on a single stock, as that represents a valid time series. Stock is chosen so it has a good balance of positive and negative targets. Data is also scaled using a MinMaxScaler."
   ],
   "id": "6659f814a206d857"
  },
  {
   "metadata": {
    "ExecuteTime": {
     "end_time": "2024-05-22T21:48:56.762483Z",
     "start_time": "2024-05-22T21:48:56.011905Z"
    }
   },
   "cell_type": "code",
   "source": [
    "data = pd.read_csv('data/clean_data.csv')\n",
    "data = data.drop(data.columns[0], axis=1)\n",
    "test_dataset = pd.read_csv('data/test.csv').fillna(0)"
   ],
   "id": "48341b53c3b09dcd",
   "outputs": [],
   "execution_count": 161
  },
  {
   "metadata": {
    "ExecuteTime": {
     "end_time": "2024-05-22T21:48:56.792020Z",
     "start_time": "2024-05-22T21:48:56.762995Z"
    }
   },
   "cell_type": "code",
   "source": [
    "symbol = 'IBM'\n",
    "stock_data = data[data['Symbol'] == symbol]\n",
    "\n",
    "X = stock_data[['Adj Close']].values.astype(np.float32)\n",
    "\n",
    "scaler = MinMaxScaler(feature_range=(-1, 1))\n",
    "X_scaled = scaler.fit_transform(X)\n",
    "\n",
    "X_tensor = torch.tensor(X_scaled)"
   ],
   "id": "8ef9734fab1ee081",
   "outputs": [],
   "execution_count": 162
  },
  {
   "metadata": {},
   "cell_type": "markdown",
   "source": [
    "## Data sequences\n",
    "We create sequences of data that will be \"fed\" to the LSTM model. This allows us to batch the training data."
   ],
   "id": "5b08c2fb7acae1cf"
  },
  {
   "metadata": {
    "ExecuteTime": {
     "end_time": "2024-05-22T21:48:56.798748Z",
     "start_time": "2024-05-22T21:48:56.793037Z"
    }
   },
   "cell_type": "code",
   "source": [
    "def create_sequences(data, seq_length):\n",
    "    sequences = []\n",
    "    for i in range(len(data) - seq_length):\n",
    "        seq = data[i:i+seq_length]\n",
    "        target = data[i+seq_length:i+seq_length+1]\n",
    "        sequences.append((seq, target))\n",
    "    return sequences"
   ],
   "id": "bb9fec87206592eb",
   "outputs": [],
   "execution_count": 163
  },
  {
   "metadata": {},
   "cell_type": "markdown",
   "source": [
    "## LSTM model\n",
    "\n",
    "Long Short-Term Memory (LSTM) layers are a fundamental component in many neural network architectures, particularly in tasks involving sequential data like natural language processing (NLP), time series analysis, and speech recognition. They are a type of recurrent neural network (RNN) architecture designed to overcome the limitations of traditional RNNs in capturing long-range dependencies and addressing the vanishing gradient problem.\n",
    "\n",
    "LSTM layers consist of memory cells that can maintain information over long periods of time. These memory cells have three main components: the input gate, the forget gate, and the output gate. Each gate is composed of a sigmoid neural network layer and a pointwise multiplication operation.\n",
    "\n",
    "The input gate regulates the flow of information into the memory cell, determining which values from the input and the previous cell state should be updated.\n",
    "The forget gate controls which information should be discarded from the cell state.\n",
    "The output gate decides what information from the cell state should be output to the next layer in the network.\n",
    "\n",
    "Additionally, LSTM layers have a cell state, which acts as a conveyor belt, transporting information throughout the network while being selectively modified by the gates.\n",
    "\n",
    "During training, LSTM layers learn to retain important information over long sequences and forget irrelevant details, allowing them to model complex temporal dependencies effectively. Their ability to handle vanishing gradients makes them well-suited for training deep networks.\n",
    "\n",
    "In summary, LSTM layers provide a powerful mechanism for modeling sequential data by allowing neural networks to learn and remember dependencies over extended time periods, making them a cornerstone of many state-of-the-art models in various fields. These kinds of Neural networks work fairly well with time series data, and thus it is likely that they will also work very well with this kind of data. Model comprises 50 hidden LSTM layers, a dropout layer that helps regularize, ReLU activation, and finally a linear layer that provides the output."
   ],
   "id": "bac42f7108607960"
  },
  {
   "metadata": {
    "ExecuteTime": {
     "end_time": "2024-05-22T22:08:28.387302Z",
     "start_time": "2024-05-22T22:08:28.380284Z"
    }
   },
   "cell_type": "code",
   "source": [
    "class LSTMModel(nn.Module):\n",
    "    def __init__(self, input_size, hidden_size=50, output_size=1, dropout=0.1):\n",
    "        super(LSTMModel, self).__init__()\n",
    "        self.hidden_size = hidden_size\n",
    "        self.lstm = nn.LSTM(input_size, hidden_size)\n",
    "        self.dropout = nn.Dropout(dropout)\n",
    "        self.activation = nn.ReLU()\n",
    "        self.fc = nn.Linear(hidden_size, output_size)\n",
    "\n",
    "    def forward(self, x):\n",
    "        lstm_out, _ = self.lstm(x.view(len(x), 1, -1))\n",
    "        out = self.dropout(lstm_out.view(len(x), -1))\n",
    "        out = self.activation(out)\n",
    "        out = self.fc(out[-1])\n",
    "        return out\n"
   ],
   "id": "709debf3336f6fa6",
   "outputs": [],
   "execution_count": 188
  },
  {
   "metadata": {},
   "cell_type": "markdown",
   "source": "Data is split in 80:20 ratio for training and testing.",
   "id": "84420cb131d43888"
  },
  {
   "metadata": {
    "ExecuteTime": {
     "end_time": "2024-05-22T22:08:30.493172Z",
     "start_time": "2024-05-22T22:08:30.485848Z"
    }
   },
   "cell_type": "code",
   "source": [
    "sequence_length = 10\n",
    "sequences = create_sequences(X_scaled, sequence_length)\n",
    "\n",
    "train_size = int(0.8 * len(sequences))\n",
    "test_size = len(sequences) - train_size\n",
    "train_data, test_data = train_test_split(sequences, test_size=test_size, shuffle=False, random_state=42)"
   ],
   "id": "e15167d9a7cd1e03",
   "outputs": [],
   "execution_count": 189
  },
  {
   "metadata": {},
   "cell_type": "markdown",
   "source": "Finally model is trained and tested. A hyperparameter grid search optimization could be possible here, but it would take a lot of time and computer resources so a subset of hyperparameters will be manually tested.",
   "id": "d2c3a740ff2cda1c"
  },
  {
   "metadata": {
    "ExecuteTime": {
     "end_time": "2024-05-22T22:32:59.187142Z",
     "start_time": "2024-05-22T22:30:18.759883Z"
    }
   },
   "cell_type": "code",
   "source": [
    "torch.manual_seed(42)\n",
    "num_epochs = 25\n",
    "model = LSTMModel(input_size=1)\n",
    "optimizer = optim.Adam(model.parameters(), lr=0.0003)\n",
    "for epoch in range(num_epochs):\n",
    "    loss = 0\n",
    "    for seq, target in train_data:\n",
    "        optimizer.zero_grad()\n",
    "        seq_tensor = torch.tensor(seq, dtype=torch.float32).unsqueeze(1)\n",
    "        y_pred = model(seq_tensor)\n",
    "        target_tensor = torch.tensor(target[-1], dtype=torch.float32).view(1, 1)\n",
    "        loss = criterion(y_pred[-1].view(1, 1), target_tensor)\n",
    "        loss.backward()\n",
    "        optimizer.step()\n",
    "    print(f'Epoch [{epoch+1}/{num_epochs}], Loss: {loss.item():.4f}')\n",
    "\n",
    "\n",
    "model.eval()\n",
    "test_inputs = torch.tensor([seq for seq, _ in test_data], dtype=torch.float32)\n",
    "test_inputs = test_inputs.view(-1, sequence_length, 1)\n",
    "\n",
    "with torch.no_grad():\n",
    "    predicted = [model(seq).item() for seq in test_inputs]\n",
    "    \n",
    "target_tensor = torch.tensor([target for _, target in test_data], dtype=torch.float32).view(-1, 1)\n",
    "actual_labels = np.array([1 if x > 0 else 0 for x in target_tensor])\n",
    "predicted_labels = np.array([1 if x > 0 else 0 for x in predicted])\n",
    "\n",
    "accuracy = accuracy_score(actual_labels, predicted_labels)\n",
    "f1 = f1_score(actual_labels, predicted_labels)\n",
    "conf_matrix = confusion_matrix(actual_labels, predicted_labels)\n",
    "\n",
    "print(\"Accuracy:\", accuracy)\n",
    "print(\"F1 Score:\", f1)\n",
    "plt.figure(figsize=(8, 6))\n",
    "sns.heatmap(conf_matrix, annot=True, fmt=\"d\", cmap=\"coolwarm\", cbar=False)\n",
    "plt.xlabel(\"Predicted Label\")\n",
    "plt.ylabel(\"True Label\")\n",
    "plt.title(\"Confusion Matrix\")\n",
    "plt.show()"
   ],
   "id": "1b6794591e7ba3b7",
   "outputs": [
    {
     "name": "stdout",
     "output_type": "stream",
     "text": [
      "Epoch [1/25], Loss: 0.0468\n",
      "Epoch [2/25], Loss: 0.0517\n",
      "Epoch [3/25], Loss: 0.0255\n",
      "Epoch [4/25], Loss: 0.0358\n",
      "Epoch [5/25], Loss: 0.0153\n",
      "Epoch [6/25], Loss: 0.0195\n",
      "Epoch [7/25], Loss: 0.0358\n",
      "Epoch [8/25], Loss: 0.0134\n",
      "Epoch [9/25], Loss: 0.0141\n",
      "Epoch [10/25], Loss: 0.0118\n",
      "Epoch [11/25], Loss: 0.0088\n",
      "Epoch [12/25], Loss: 0.0113\n",
      "Epoch [13/25], Loss: 0.0189\n",
      "Epoch [14/25], Loss: 0.0116\n",
      "Epoch [15/25], Loss: 0.0161\n",
      "Epoch [16/25], Loss: 0.0074\n",
      "Epoch [17/25], Loss: 0.0062\n",
      "Epoch [18/25], Loss: 0.0052\n",
      "Epoch [19/25], Loss: 0.0056\n",
      "Epoch [20/25], Loss: 0.0041\n",
      "Epoch [21/25], Loss: 0.0148\n",
      "Epoch [22/25], Loss: 0.0076\n",
      "Epoch [23/25], Loss: 0.0072\n",
      "Epoch [24/25], Loss: 0.0082\n",
      "Epoch [25/25], Loss: 0.0047\n",
      "Accuracy: 0.974\n",
      "F1 Score: 0.983729662077597\n"
     ]
    },
    {
     "data": {
      "text/plain": [
       "<Figure size 800x600 with 1 Axes>"
      ],
      "image/png": "[encoded data removed]"
     },
     "metadata": {},
     "output_type": "display_data"
    }
   ],
   "execution_count": 197
  },
  {
   "metadata": {},
   "cell_type": "markdown",
   "source": [
    "After 25 epochs of training, a **98.3%** F1-score is achieved on the test set. Achieved accuracy reaches **97.4%**. \n",
    "\n",
    "Model showed the best performance in current configuration:\n",
    "- **50** hidden layers\n",
    "- Dropout layer with **0.1** probability\n",
    "- ReLU activation\n",
    "- Adam optimizer with learning rate = **0.0003**\n",
    "- batch size was set to **10** so the training would be a bit faster and model more robust."
   ],
   "id": "4c479b1b65628118"
  },
  {
   "metadata": {},
   "cell_type": "markdown",
   "source": [
    "## Conclusion\n",
    "\n",
    "LSTM model created in this shows a fairly strong performance on the data for a single stock, using just Adj Close column. Strong advantage of this type of model is its high accuracy. On the other hand training is fairly time and resource consuming. "
   ],
   "id": "7128041f42025650"
  }
 ],
 "metadata": {
  "kernelspec": {
   "display_name": "Python 3",
   "language": "python",
   "name": "python3"
  },
  "language_info": {
   "codemirror_mode": {
    "name": "ipython",
    "version": 2
   },
   "file_extension": ".py",
   "mimetype": "text/x-python",
   "name": "python",
   "nbconvert_exporter": "python",
   "pygments_lexer": "ipython2",
   "version": "2.7.6"
  }
 },
 "nbformat": 4,
 "nbformat_minor": 5
}
