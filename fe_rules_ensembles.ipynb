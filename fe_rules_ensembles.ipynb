{
 "cells": [
  {
   "cell_type": "markdown",
   "source": [
    "# Feature engineering, rules-based models and ensembles "
   ],
   "metadata": {
    "collapsed": false
   },
   "id": "b8e111e1e78dab2b"
  },
  {
   "cell_type": "code",
   "outputs": [],
   "source": [
    "import pandas as pd\n",
    "import numpy as np\n",
    "from sklearn.metrics import f1_score\n",
    "from sklearn.model_selection import KFold\n",
    "from xgboost import XGBClassifier\n",
    "from sklearn.ensemble import RandomForestClassifier, ExtraTreesClassifier\n",
    "from sklearn.linear_model import LogisticRegression\n",
    "from sklearn.naive_bayes import GaussianNB"
   ],
   "metadata": {
    "collapsed": true,
    "ExecuteTime": {
     "end_time": "2024-04-08T20:36:40.768430Z",
     "start_time": "2024-04-08T20:36:40.764604Z"
    }
   },
   "id": "initial_id",
   "execution_count": 24
  },
  {
   "cell_type": "markdown",
   "source": [
    "### Import of clean data created in the first notebook"
   ],
   "metadata": {
    "collapsed": false
   },
   "id": "d7c0bdfe805aa75a"
  },
  {
   "cell_type": "code",
   "outputs": [],
   "source": [
    "data = pd.read_csv('data/clean_data.csv')\n",
    "data = data.drop(data.columns[0], axis=1)"
   ],
   "metadata": {
    "collapsed": false,
    "ExecuteTime": {
     "end_time": "2024-04-08T20:36:42.730593Z",
     "start_time": "2024-04-08T20:36:42.220064Z"
    }
   },
   "id": "b94d620223124503",
   "execution_count": 25
  },
  {
   "cell_type": "code",
   "outputs": [],
   "source": [
    "def cross_validate_models(data):\n",
    "    labels = data['Target']\n",
    "    cvm_data = data.drop(['Target', 'Date', 'Symbol', 'Id'], axis=1)\n",
    "    models = {\n",
    "        'GNB': GaussianNB(),\n",
    "        'LR': LogisticRegression(),\n",
    "        'RFC': RandomForestClassifier(),\n",
    "        'ETC': ExtraTreesClassifier(),\n",
    "        'XGB': XGBClassifier()\n",
    "    }\n",
    "\n",
    "    folds = 5\n",
    "    kf = KFold(n_splits=folds)\n",
    "    \n",
    "    print(\"Algorithm\\t\\t\", \"\\t\".join([f\"Fold {i+1}\" for i in range(folds)]), \"\\tAverage\")\n",
    "    for model_name, model in models.items():\n",
    "        scores = []\n",
    "        for train_index, test_index in kf.split(cvm_data):\n",
    "            X_train, X_test = cvm_data.iloc[train_index], cvm_data.iloc[test_index]\n",
    "            y_train, y_test = labels.iloc[train_index], labels.iloc[test_index]\n",
    "            model.fit(X_train, y_train)\n",
    "            y_pred = model.predict(X_test)\n",
    "            score = f1_score(y_test, y_pred)\n",
    "            scores.append(score)\n",
    "    \n",
    "        avg_score = np.mean(scores)\n",
    "        print(f\"{model_name}\\t\", \"\\t\".join([f\"{score:.2f}\" for score in scores]), f\"\\t{avg_score:.2f}\")\n",
    "        \n",
    "#cross_validate_models(data)"
   ],
   "metadata": {
    "collapsed": false,
    "ExecuteTime": {
     "end_time": "2024-04-08T20:36:37.064723Z",
     "start_time": "2024-04-08T20:36:37.059127Z"
    }
   },
   "id": "9fdc050417390103",
   "execution_count": 23
  },
  {
   "cell_type": "markdown",
   "source": [
    "## Feature creation"
   ],
   "metadata": {
    "collapsed": false
   },
   "id": "980fe328a0b653cb"
  },
  {
   "cell_type": "markdown",
   "source": [
    "### History related features\n",
    "\n",
    "1. **Lagged Returns (Lagged_Return_1, Lagged_Return_5):**\n",
    "   - These features capture the previous day's (Lagged_Return_1) and the return of the stock price five days ago (Lagged_Return_5).\n",
    "   - `shift(1)` and `shift(5)` shift the 'Close' price downward by one and five rows, respectively, effectively capturing the past returns.\n",
    "\n",
    "2. **Rolling Statistics (Rolling_Mean_5, Rolling_Std_5, Rolling_Min_5, Rolling_Max_5):**\n",
    "   - These features calculate rolling statistics over a 5-day window for each stock symbol.\n",
    "   - `x.rolling(window=5).mean()`, `x.rolling(window=5).std()`, `x.rolling(window=5).min()`, and `x.rolling(window=5).max()` compute the rolling mean, standard deviation, minimum, and maximum of the 'Close' price, respectively.\n",
    "\n",
    "3. **Price Oscillations (Price_Oscillation):**\n",
    "   - This feature computes the price oscillation, which is the ratio of the difference between the high and low prices to the closing price.\n",
    "   - It provides insights into intraday price volatility and trading range.\n",
    "\n",
    "4. **Volume Accumulation (Volume_Accumulation):**\n",
    "   - This feature calculates the cumulative volume traded for each stock symbol over time.\n",
    "   - `x.expanding().sum()` computes the expanding sum of the 'Volume' column, capturing the total volume accumulated until each point in time.\n",
    "\n",
    "5. **Price to Moving Average Ratio (Price_to_SMA_20_Ratio):**\n",
    "   - This feature calculates the ratio of the closing price to the 20-day Simple Moving Average (SMA).\n",
    "   - It indicates whether the current price is above or below the average price trend over the specified period.\n",
    "\n",
    "6. **Price Rate of Change (ROC):**\n",
    "   - This feature computes the rate of change of the closing price over a 5-day period.\n",
    "   - `x.pct_change(periods=5)` calculates the percentage change in the closing price relative to its value five days ago.\n",
    "\n",
    "7. **Volatility Measures (Volatility_10):**\n",
    "   - This feature computes the volatility of the stock price over a 10-day window.\n",
    "   - It measures the standard deviation of daily percentage changes in the closing price.\n",
    "\n",
    "8. **Price Crossings (Price_Above_SMA_50):**\n",
    "   - This binary feature indicates whether the closing price is above the 50-day Simple Moving Average (SMA_50).\n",
    "   - It can signal potential trend changes or breakout points.\n",
    "\n",
    "9. **Relative Price Strength (Relative_Price_Strength):**\n",
    "   - This feature calculates the ratio of the stock price to the average closing price of the market index on each date.\n",
    "   - It measures the stock's relative performance compared to the broader market.\n",
    "\n",
    "10. **Trading Volume Momentum (Volume_Momentum):**\n",
    "   - This feature computes the momentum of trading volume over a 5-day period.\n",
    "   - It measures the percentage change in trading volume relative to its value five days ago.\n",
    "\n",
    "These features capture various aspects of historical price movements, volatility, and trading activity, providing valuable information for predictive modeling and trading strategies."
   ],
   "metadata": {
    "collapsed": false
   },
   "id": "679f949c528b69eb"
  },
  {
   "cell_type": "code",
   "outputs": [],
   "source": [
    "data['SMA_50'] = data.groupby('Symbol')['Close'].transform(lambda x: x.rolling(window=50).mean())\n",
    "data['EMA_20'] = data.groupby('Symbol')['Close'].transform(lambda x: x.ewm(span=20, adjust=False).mean())\n",
    "\n",
    "data['Lagged_Return_1'] = data.groupby('Symbol')['Close'].shift(1)\n",
    "data['Lagged_Return_5'] = data.groupby('Symbol')['Close'].shift(5)\n",
    "\n",
    "data['Rolling_Mean_5'] = data.groupby('Symbol')['Close'].transform(lambda x: x.rolling(window=5).mean())\n",
    "data['Rolling_Std_5'] = data.groupby('Symbol')['Close'].transform(lambda x: x.rolling(window=5).std())\n",
    "data['Rolling_Min_5'] = data.groupby('Symbol')['Close'].transform(lambda x: x.rolling(window=5).min())\n",
    "data['Rolling_Max_5'] = data.groupby('Symbol')['Close'].transform(lambda x: x.rolling(window=5).max())\n",
    "\n",
    "data['Price_Oscillation'] = (data['High'] - data['Low']) / data['Close']\n",
    "\n",
    "data['Volume_Accumulation'] = data.groupby('Symbol')['Volume'].transform(lambda x: x.expanding().sum())\n",
    "\n",
    "# Calculate SMA_20 before using it\n",
    "data['SMA_20'] = data.groupby('Symbol')['Close'].transform(lambda x: x.rolling(window=20).mean())\n",
    "\n",
    "# Now calculate Price_to_SMA_20_Ratio\n",
    "data['Price_to_SMA_20_Ratio'] = data['Close'] / data['SMA_20']\n",
    "\n",
    "data['ROC'] = data.groupby('Symbol')['Close'].pct_change(periods=5)\n",
    "data['Volatility_10'] = data.groupby('Symbol')['Close'].pct_change().rolling(window=10).std()\n",
    "data['Price_Above_SMA_50'] = (data['Close'] > data['SMA_50']).astype(int)\n",
    "\n",
    "market_index_data = data.groupby('Date')['Close'].mean().rename('Market_Index').reset_index()\n",
    "data = pd.merge(data, market_index_data, on='Date', how='left')\n",
    "data['Relative_Price_Strength'] = data['Close'] / data['Market_Index']\n",
    "data['Volume_Momentum'] = data.groupby('Symbol')['Volume'].pct_change(periods=5)"
   ],
   "metadata": {
    "collapsed": false,
    "ExecuteTime": {
     "end_time": "2024-04-08T20:36:48.525990Z",
     "start_time": "2024-04-08T20:36:47.030779Z"
    }
   },
   "id": "b04c687b3039129c",
   "execution_count": 26
  },
  {
   "cell_type": "markdown",
   "source": [
    "### Domain specific features\n",
    "\n",
    "1. **Simple Moving Average (SMA_50):**\n",
    "   - This line calculates the 50-day Simple Moving Average (SMA) for each stock symbol in the dataset. \n",
    "   - `data.groupby('Symbol')['Close']` groups the data by the 'Symbol' column and selects the 'Close' price for each group.\n",
    "   - `.transform(lambda x: x.rolling(window=50).mean())` calculates the rolling mean (average) over a window of 50 periods for each group, which represents the 50-day SMA.\n",
    "\n",
    "2. **Exponential Moving Average (EMA_20):**\n",
    "   - This line calculates the 20-day Exponential Moving Average (EMA) for each stock symbol.\n",
    "   - Similar to SMA, it calculates the rolling mean, but EMA gives more weight to recent prices.\n",
    "   - `x.ewm(span=20, adjust=False).mean()` calculates the EMA with a span of 20 periods for each group.\n",
    "\n",
    "3. **Relative Strength Index (RSI):**\n",
    "   - RSI is a momentum oscillator that measures the speed and change of price movements.\n",
    "   - The `calculate_rsi()` function calculates the RSI for each stock symbol using the closing prices and a specified window (default is 14 periods).\n",
    "   - It calculates the average gain and loss over the specified window, computes the relative strength (RS), and then calculates the RSI using a formula.\n",
    "   - `data.groupby('Symbol').apply(calculate_rsi)` applies this function to each group of data grouped by 'Symbol'.\n",
    "\n",
    "4. **Bollinger Bands (SMA_20, std_20, upper_band, lower_band):**\n",
    "   - Bollinger Bands are volatility bands placed above and below a moving average.\n",
    "   - `SMA_20` calculates the 20-day SMA for each symbol.\n",
    "   - `std_20` calculates the standard deviation of closing prices over a 20-day window for each symbol.\n",
    "   - `upper_band` and `lower_band` are calculated by adding/subtracting two times the standard deviation from the SMA, providing a measure of volatility around the average.\n",
    "\n",
    "5. **Volume Weighted Average Price (VWAP):**\n",
    "   - VWAP is a trading benchmark used by traders that gives the average price a security has traded at throughout the day, based on both volume and price.\n",
    "   - This line calculates VWAP by summing up the product of volume and average price (computed as the average of high, low, and close prices) over time, and dividing by the cumulative volume.\n",
    "\n",
    "6. **Moving Average Convergence Divergence (MACD):**\n",
    "   - MACD is a trend-following momentum indicator that shows the relationship between two moving averages of a security’s price.\n",
    "   - `EMA_12` and `EMA_26` calculate the 12-day and 26-day EMA for each symbol, respectively.\n",
    "   - `MACD` is computed as the difference between the 12-day and 26-day EMAs.\n",
    "\n",
    "These features capture various aspects of price trends, volatility, and momentum, providing valuable insights for technical analysis in stock trading."
   ],
   "metadata": {
    "collapsed": false
   },
   "id": "f44434cb6b353b01"
  },
  {
   "cell_type": "code",
   "outputs": [],
   "source": [
    "def calculate_rsi(close_prices, window=14):\n",
    "    delta = close_prices.diff()\n",
    "    gain = (delta.where(delta > 0, 0)).rolling(window=window).mean()\n",
    "    loss = (-delta.where(delta < 0, 0)).rolling(window=window).mean()\n",
    "    RS = gain / loss\n",
    "    RSI = 100 - (100 / (1 + RS))\n",
    "    return RSI\n",
    "\n",
    "data['RSI'] = data.groupby('Symbol')['Close'].transform(lambda x: calculate_rsi(x))\n",
    "\n",
    "data['SMA_20'] = data.groupby('Symbol')['Close'].transform(lambda x: x.rolling(window=20).mean())\n",
    "data['std_20'] = data.groupby('Symbol')['Close'].transform(lambda x: x.rolling(window=20).std())\n",
    "data['upper_band'] = data['SMA_20'] + (2 * data['std_20'])\n",
    "data['lower_band'] = data['SMA_20'] - (2 * data['std_20'])\n",
    "\n",
    "data['VWAP'] = (data['Volume'] * (data['High'] + data['Low'] + data['Close']) / 3).cumsum() / data['Volume'].cumsum()\n",
    "\n",
    "data['EMA_12'] = data.groupby('Symbol')['Close'].transform(lambda x: x.ewm(span=12, adjust=False).mean())\n",
    "data['EMA_26'] = data.groupby('Symbol')['Close'].transform(lambda x: x.ewm(span=26, adjust=False).mean())\n",
    "data['MACD'] = data['EMA_12'] - data['EMA_26']"
   ],
   "metadata": {
    "collapsed": false,
    "ExecuteTime": {
     "end_time": "2024-04-08T20:37:38.779404Z",
     "start_time": "2024-04-08T20:37:38.088021Z"
    }
   },
   "id": "e645807bc752a1fc",
   "execution_count": 28
  },
  {
   "cell_type": "code",
   "outputs": [
    {
     "data": {
      "text/plain": "         Date Symbol  Adj Close      Close       High        Low       Open  \\\n0  2010-01-04    MMM  53.295380  83.019997  83.449997  82.669998  83.089996   \n1  2010-01-04   CHRW  42.591290  59.340000  59.650002  58.939999  59.220001   \n2  2010-01-04   STLD  13.078124  18.290001  18.500000  18.040001  18.170000   \n3  2010-01-04    CAH  22.306038  32.529999  32.660000  31.900000  32.240002   \n4  2010-01-04    TGT  35.269444  48.549999  48.889999  48.400002  48.470001   \n\n      Volume  Target      Id  ...  Relative_Price_Strength  Volume_Momentum  \\\n0  3043700.0       0       0  ...                 2.109333              NaN   \n1   822900.0       1   87745  ...                 1.507683              NaN   \n2  3691600.0       0  416162  ...                 0.464704              NaN   \n3  3824400.0       1   82731  ...                 0.826507              NaN   \n4  4589100.0       1  423683  ...                 1.233536              NaN   \n\n   RSI  std_20  upper_band  lower_band       VWAP     EMA_12     EMA_26  MACD  \n0  NaN     NaN         NaN         NaN  83.046664  83.019997  83.019997   0.0  \n1  NaN     NaN         NaN         NaN  77.994965  59.340000  59.340000   0.0  \n2  NaN     NaN         NaN         NaN  48.827165  18.290001  18.290001   0.0  \n3  NaN     NaN         NaN         NaN  43.295539  32.529999  32.529999   0.0  \n4  NaN     NaN         NaN         NaN  44.823485  48.549999  48.549999   0.0  \n\n[5 rows x 36 columns]",
      "text/html": "<div>\n<style scoped>\n    .dataframe tbody tr th:only-of-type {\n        vertical-align: middle;\n    }\n\n    .dataframe tbody tr th {\n        vertical-align: top;\n    }\n\n    .dataframe thead th {\n        text-align: right;\n    }\n</style>\n<table border=\"1\" class=\"dataframe\">\n  <thead>\n    <tr style=\"text-align: right;\">\n      <th></th>\n      <th>Date</th>\n      <th>Symbol</th>\n      <th>Adj Close</th>\n      <th>Close</th>\n      <th>High</th>\n      <th>Low</th>\n      <th>Open</th>\n      <th>Volume</th>\n      <th>Target</th>\n      <th>Id</th>\n      <th>...</th>\n      <th>Relative_Price_Strength</th>\n      <th>Volume_Momentum</th>\n      <th>RSI</th>\n      <th>std_20</th>\n      <th>upper_band</th>\n      <th>lower_band</th>\n      <th>VWAP</th>\n      <th>EMA_12</th>\n      <th>EMA_26</th>\n      <th>MACD</th>\n    </tr>\n  </thead>\n  <tbody>\n    <tr>\n      <th>0</th>\n      <td>2010-01-04</td>\n      <td>MMM</td>\n      <td>53.295380</td>\n      <td>83.019997</td>\n      <td>83.449997</td>\n      <td>82.669998</td>\n      <td>83.089996</td>\n      <td>3043700.0</td>\n      <td>0</td>\n      <td>0</td>\n      <td>...</td>\n      <td>2.109333</td>\n      <td>NaN</td>\n      <td>NaN</td>\n      <td>NaN</td>\n      <td>NaN</td>\n      <td>NaN</td>\n      <td>83.046664</td>\n      <td>83.019997</td>\n      <td>83.019997</td>\n      <td>0.0</td>\n    </tr>\n    <tr>\n      <th>1</th>\n      <td>2010-01-04</td>\n      <td>CHRW</td>\n      <td>42.591290</td>\n      <td>59.340000</td>\n      <td>59.650002</td>\n      <td>58.939999</td>\n      <td>59.220001</td>\n      <td>822900.0</td>\n      <td>1</td>\n      <td>87745</td>\n      <td>...</td>\n      <td>1.507683</td>\n      <td>NaN</td>\n      <td>NaN</td>\n      <td>NaN</td>\n      <td>NaN</td>\n      <td>NaN</td>\n      <td>77.994965</td>\n      <td>59.340000</td>\n      <td>59.340000</td>\n      <td>0.0</td>\n    </tr>\n    <tr>\n      <th>2</th>\n      <td>2010-01-04</td>\n      <td>STLD</td>\n      <td>13.078124</td>\n      <td>18.290001</td>\n      <td>18.500000</td>\n      <td>18.040001</td>\n      <td>18.170000</td>\n      <td>3691600.0</td>\n      <td>0</td>\n      <td>416162</td>\n      <td>...</td>\n      <td>0.464704</td>\n      <td>NaN</td>\n      <td>NaN</td>\n      <td>NaN</td>\n      <td>NaN</td>\n      <td>NaN</td>\n      <td>48.827165</td>\n      <td>18.290001</td>\n      <td>18.290001</td>\n      <td>0.0</td>\n    </tr>\n    <tr>\n      <th>3</th>\n      <td>2010-01-04</td>\n      <td>CAH</td>\n      <td>22.306038</td>\n      <td>32.529999</td>\n      <td>32.660000</td>\n      <td>31.900000</td>\n      <td>32.240002</td>\n      <td>3824400.0</td>\n      <td>1</td>\n      <td>82731</td>\n      <td>...</td>\n      <td>0.826507</td>\n      <td>NaN</td>\n      <td>NaN</td>\n      <td>NaN</td>\n      <td>NaN</td>\n      <td>NaN</td>\n      <td>43.295539</td>\n      <td>32.529999</td>\n      <td>32.529999</td>\n      <td>0.0</td>\n    </tr>\n    <tr>\n      <th>4</th>\n      <td>2010-01-04</td>\n      <td>TGT</td>\n      <td>35.269444</td>\n      <td>48.549999</td>\n      <td>48.889999</td>\n      <td>48.400002</td>\n      <td>48.470001</td>\n      <td>4589100.0</td>\n      <td>1</td>\n      <td>423683</td>\n      <td>...</td>\n      <td>1.233536</td>\n      <td>NaN</td>\n      <td>NaN</td>\n      <td>NaN</td>\n      <td>NaN</td>\n      <td>NaN</td>\n      <td>44.823485</td>\n      <td>48.549999</td>\n      <td>48.549999</td>\n      <td>0.0</td>\n    </tr>\n  </tbody>\n</table>\n<p>5 rows × 36 columns</p>\n</div>"
     },
     "execution_count": 29,
     "metadata": {},
     "output_type": "execute_result"
    }
   ],
   "source": [],
   "metadata": {
    "collapsed": false,
    "ExecuteTime": {
     "end_time": "2024-04-08T20:37:48.764538Z",
     "start_time": "2024-04-08T20:37:48.746376Z"
    }
   },
   "id": "9d47598b9b357b9a",
   "execution_count": 29
  }
 ],
 "metadata": {
  "kernelspec": {
   "display_name": "Python 3",
   "language": "python",
   "name": "python3"
  },
  "language_info": {
   "codemirror_mode": {
    "name": "ipython",
    "version": 2
   },
   "file_extension": ".py",
   "mimetype": "text/x-python",
   "name": "python",
   "nbconvert_exporter": "python",
   "pygments_lexer": "ipython2",
   "version": "2.7.6"
  }
 },
 "nbformat": 4,
 "nbformat_minor": 5
}
